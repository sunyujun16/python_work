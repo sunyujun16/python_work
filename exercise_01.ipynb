{
 "cells": [
  {
   "cell_type": "markdown",
   "metadata": {},
   "source": [
    "# chapter 2 Hello parameter"
   ]
  },
  {
   "cell_type": "code",
   "execution_count": 8,
   "metadata": {},
   "outputs": [
    {
     "name": "stdout",
     "output_type": "stream",
     "text": [
      "Whatever The Fuck\n"
     ]
    }
   ],
   "source": [
    "name = 'whatever the fuck'\n",
    "print(name.title())"
   ]
  },
  {
   "cell_type": "code",
   "execution_count": 16,
   "metadata": {},
   "outputs": [
    {
     "name": "stdout",
     "output_type": "stream",
     "text": [
      "whatever the fuck\n",
      "whatever the fuck\n"
     ]
    }
   ],
   "source": [
    "# \\n换行\n",
    "# \\t制表符\n",
    "print(name.rstrip('f'))\n",
    "print(name) # strip（）method doesn't change the value of string."
   ]
  },
  {
   "cell_type": "code",
   "execution_count": 17,
   "metadata": {},
   "outputs": [
    {
     "name": "stdout",
     "output_type": "stream",
     "text": [
      "WHATEVER THE FUCK\n",
      "whatever the fuck\n",
      "Whatever The Fuck\n"
     ]
    }
   ],
   "source": [
    "name1 = 'sunyujun'\n",
    "print(name.upper())\n",
    "print(name.lower())\n",
    "print(name.title())"
   ]
  },
  {
   "cell_type": "code",
   "execution_count": 18,
   "metadata": {},
   "outputs": [
    {
     "name": "stdout",
     "output_type": "stream",
     "text": [
      "My mom aways said:\"Life is like a box of choclate, you never know what the next one would tastes like.\"\n"
     ]
    }
   ],
   "source": [
    "print(\"My mom aways said:\\\"Life is like a box of choclate, you never know what the next one would tastes like.\\\"\")"
   ]
  },
  {
   "cell_type": "code",
   "execution_count": 19,
   "metadata": {},
   "outputs": [
    {
     "name": "stdout",
     "output_type": "stream",
     "text": [
      "Albert Einstein always said:\"what the fuck.\"\n",
      "lbert einstein\n",
      "ALBERT EINSTEI\n"
     ]
    }
   ],
   "source": [
    "famous_person = \"albert einstein\"\n",
    "message = famous_person.title() + ' ' + 'always said:\"what the fuck.\"'\n",
    "print(message)\n",
    "print(famous_person.lstrip(\"a\"))\n",
    "print(famous_person.upper().rstrip('N')) # attention: :'N' was striped, that means this grammar works."
   ]
  },
  {
   "cell_type": "code",
   "execution_count": 5,
   "metadata": {},
   "outputs": [
    {
     "name": "stdout",
     "output_type": "stream",
     "text": [
      "8\n",
      "8\n",
      "8\n",
      "8\n"
     ]
    }
   ],
   "source": [
    "# print eight in different operations.\n",
    "print(3+5)\n",
    "print(4*2)\n",
    "print(int(16/2))\n",
    "print(9-1)"
   ]
  },
  {
   "cell_type": "code",
   "execution_count": 6,
   "metadata": {},
   "outputs": [
    {
     "name": "stdout",
     "output_type": "stream",
     "text": [
      "my favorite number is 10\n"
     ]
    }
   ],
   "source": [
    "# 2-9 print your favorite number.\n",
    "num = 10\n",
    "msg = \"my favorite number is \" + str(num)\n",
    "print(msg)"
   ]
  },
  {
   "cell_type": "code",
   "execution_count": 7,
   "metadata": {
    "scrolled": true
   },
   "outputs": [
    {
     "name": "stdout",
     "output_type": "stream",
     "text": [
      "The Zen of Python, by Tim Peters\n",
      "\n",
      "Beautiful is better than ugly.\n",
      "Explicit is better than implicit.\n",
      "Simple is better than complex.\n",
      "Complex is better than complicated.\n",
      "Flat is better than nested.\n",
      "Sparse is better than dense.\n",
      "Readability counts.\n",
      "Special cases aren't special enough to break the rules.\n",
      "Although practicality beats purity.\n",
      "Errors should never pass silently.\n",
      "Unless explicitly silenced.\n",
      "In the face of ambiguity, refuse the temptation to guess.\n",
      "There should be one-- and preferably only one --obvious way to do it.\n",
      "Although that way may not be obvious at first unless you're Dutch.\n",
      "Now is better than never.\n",
      "Although never is often better than *right* now.\n",
      "If the implementation is hard to explain, it's a bad idea.\n",
      "If the implementation is easy to explain, it may be a good idea.\n",
      "Namespaces are one honking great idea -- let's do more of those!\n"
     ]
    }
   ],
   "source": [
    "import this"
   ]
  },
  {
   "cell_type": "markdown",
   "metadata": {
    "collapsed": true
   },
   "source": [
    "# chapter 3 -- what is a list?"
   ]
  },
  {
   "cell_type": "code",
   "execution_count": 1,
   "metadata": {
    "scrolled": false
   },
   "outputs": [
    {
     "name": "stdout",
     "output_type": "stream",
     "text": [
      "['gunfight', 'love', 'love and gunfight']\n",
      "Gunfight\n"
     ]
    }
   ],
   "source": [
    "movies = ['gunfight',          'love', 'love and gunfight']\n",
    "print(movies)\n",
    "print(movies[0].title())"
   ]
  },
  {
   "cell_type": "code",
   "execution_count": 12,
   "metadata": {},
   "outputs": [
    {
     "name": "stdout",
     "output_type": "stream",
     "text": [
      "刘奕含\n",
      "孙宇军\n",
      "孟凡琳\n",
      "Michael\n"
     ]
    }
   ],
   "source": [
    "names = [\"刘奕含\", '孙宇军', '孟凡琳', \"Michael\"]\n",
    "for i in range(len(names)):\n",
    "    print(names[i])"
   ]
  },
  {
   "cell_type": "code",
   "execution_count": 16,
   "metadata": {
    "scrolled": true
   },
   "outputs": [
    {
     "name": "stdout",
     "output_type": "stream",
     "text": [
      "Hi, 刘奕含, wish you a good future.\n",
      "Hi, 孙宇军, wish you a good future.\n",
      "Hi, 孟凡琳, wish you a good future.\n",
      "Hi, Michael, wish you a good future.\n"
     ]
    }
   ],
   "source": [
    "names = [\"刘奕含\", '孙宇军', '孟凡琳', \"Michael\"]\n",
    "for i in range(len(names)):\n",
    "    name = names[i].title()\n",
    "    say_hi = \"Hi, \" + name + \", wish you a good future.\"\n",
    "    print(say_hi)"
   ]
  },
  {
   "cell_type": "code",
   "execution_count": 19,
   "metadata": {
    "scrolled": true
   },
   "outputs": [
    {
     "name": "stdout",
     "output_type": "stream",
     "text": [
      "I'd like to go to work by Helicopter\n",
      "They say:\"it's faster to take the bike.\n"
     ]
    }
   ],
   "source": [
    "transportations = ['Motorcycle', 'Car', 'Helicopter', 'Bike']\n",
    "print(\"I'd like to go to work by \"+transportations[2])\n",
    "print('They say:\"it\\'s faster to take the '+transportations[3].lower()+'.')"
   ]
  },
  {
   "cell_type": "code",
   "execution_count": 42,
   "metadata": {},
   "outputs": [
    {
     "name": "stdout",
     "output_type": "stream",
     "text": [
      "Dance with me, 刘奕含\n",
      "Dance with me, 孟凡琳\n",
      "Dance with me, 秋香姐\n",
      "But sadly, 秋香姐 can't be here.\n",
      "Dance with me, 刘奕含\n",
      "Dance with me, 孟凡琳\n",
      "Dance with me, 石榴姐\n",
      "\n",
      "I've found a bigger table!\n",
      "\n",
      "Let's have dinner, 孙宇军\n",
      "Let's have dinner, 刘奕含\n",
      "Let's have dinner, 孟凡琳\n",
      "Let's have dinner, 唐伯虎\n",
      "Let's have dinner, 石榴姐\n",
      "Let's have dinner, 华安\n",
      "\n",
      "Sorry, but sth went wrong, only two people are avalibal.\n",
      "华安, sorry for tonight\n",
      "石榴姐, sorry for tonight\n",
      "唐伯虎, sorry for tonight\n",
      "孟凡琳, sorry for tonight\n",
      "\n",
      "We can still have dinner, 孙宇军\n",
      "We can still have dinner, 刘奕含\n",
      "[]\n"
     ]
    }
   ],
   "source": [
    "# 3-4\n",
    "\n",
    "guests = ['刘奕含', '孟凡琳', '秋香姐']\n",
    "\n",
    "for i in range(len(guests)):\n",
    "    print ('Dance with me, '+guests[i])\n",
    "\n",
    "# 3-5 \n",
    "\n",
    "print(\"But sadly, \"+ guests[2] +\" can't be here.\")\n",
    "guests[2] = '石榴姐'\n",
    "\n",
    "for i in range(len(guests)):\n",
    "    print ('Dance with me, '+guests[i])\n",
    "    \n",
    "# 3-6\n",
    "\n",
    "print (\"\\nI\\'ve found a bigger table!\\n\")\n",
    "\n",
    "guests.insert(0,'孙宇军')\n",
    "guests.insert(3,'唐伯虎')\n",
    "guests.append('华安')\n",
    "\n",
    "for i in range(len(guests)):\n",
    "    print ('Let\\'s have dinner, '+guests[i])\n",
    "    \n",
    "#3-7\n",
    "\n",
    "print(\"\\nSorry, but sth went wrong, only two people are avalibal.\")\n",
    "\n",
    "for i in range(len(guests)-2):\n",
    "    loser = guests.pop()\n",
    "    print(loser+\", sorry for tonight\")\n",
    "\n",
    "print()\n",
    "\n",
    "for i in range(len(guests)):\n",
    "    print ('We can still have dinner, '+guests[i])\n",
    "\n",
    "del guests[1]\n",
    "del guests[0]\n",
    "\n",
    "print(guests)"
   ]
  },
  {
   "cell_type": "code",
   "execution_count": 49,
   "metadata": {},
   "outputs": [
    {
     "name": "stdout",
     "output_type": "stream",
     "text": [
      "['audi', 'benze', 'bmw', 'honda', 'toyota']\n",
      "['toyota', 'honda', 'bmw', 'benze', 'audi']\n"
     ]
    }
   ],
   "source": [
    "# this sort method of lists is not reversible\n",
    "cars = ['bmw', 'audi', 'benze', 'honda', 'toyota']\n",
    "cars.sort() # sort by the first order.\n",
    "print(cars)\n",
    "\n",
    "cars.sort(reverse=True)\n",
    "print(cars)"
   ]
  },
  {
   "cell_type": "code",
   "execution_count": 51,
   "metadata": {},
   "outputs": [
    {
     "name": "stdout",
     "output_type": "stream",
     "text": [
      "['audi', 'benze', 'bmw', 'honda', 'toyota']\n",
      "['toyota', 'honda', 'bmw', 'benze', 'audi']\n"
     ]
    }
   ],
   "source": [
    "# In order to make a temprary sort, use 'sorted()'\n",
    "s = sorted(cars)\n",
    "print(s)\n",
    "print(cars)"
   ]
  },
  {
   "cell_type": "code",
   "execution_count": 52,
   "metadata": {},
   "outputs": [
    {
     "name": "stdout",
     "output_type": "stream",
     "text": [
      "['audi', 'benze', 'bmw', 'honda', 'toyota']\n",
      "['toyota', 'honda', 'bmw', 'benze', 'audi']\n"
     ]
    }
   ],
   "source": [
    "cars.reverse()\n",
    "print(cars)\n",
    "cars.reverse()\n",
    "print(cars)"
   ]
  },
  {
   "cell_type": "markdown",
   "metadata": {},
   "source": [
    "# chapter 4 Manage your list"
   ]
  },
  {
   "cell_type": "code",
   "execution_count": 65,
   "metadata": {},
   "outputs": [
    {
     "name": "stdout",
     "output_type": "stream",
     "text": [
      "[0, 1, 2, 3, 4, 5]\n",
      "range(0, 6)\n",
      "(0, 1, 2, 3, 4, 5)\n",
      "range(0, 6)\n"
     ]
    },
    {
     "data": {
      "text/plain": [
       "range(0, 6)"
      ]
     },
     "execution_count": 65,
     "metadata": {},
     "output_type": "execute_result"
    }
   ],
   "source": [
    "print(list(range(0,6)))\n",
    "print(str(range(0,6)))\n",
    "print(tuple(range(0,6)))\n",
    "print(range(0,6))\n",
    "range(0,6)"
   ]
  },
  {
   "cell_type": "code",
   "execution_count": 72,
   "metadata": {},
   "outputs": [
    {
     "name": "stdout",
     "output_type": "stream",
     "text": [
      "<class 'list'>\n",
      "[0, 1, 4, 9, 16, 25, 36, 49, 64, 81, 100]\n"
     ]
    }
   ],
   "source": [
    "# Remember, the method append() returns 'None'.\n",
    "squares = []\n",
    "print(type(squares))\n",
    "for i in range(0,11):\n",
    "    k = i**2\n",
    "    squares.append(k)\n",
    "print(squares)"
   ]
  },
  {
   "cell_type": "code",
   "execution_count": 14,
   "metadata": {},
   "outputs": [
    {
     "name": "stdout",
     "output_type": "stream",
     "text": [
      "[3, 6, 9, 12, 15, 18, 21, 24, 27, 30]\n",
      "\n",
      "[0, 1, 8, 27, 64, 125, 216, 343, 512, 729]\n"
     ]
    }
   ],
   "source": [
    "# 4-3 to 4-9\n",
    "# for i in range(1, 21):\n",
    "#     print(i,end=',')\n",
    "nums = list(range(1,1001))    \n",
    "# for num in nums:\n",
    "#     print(num, end=',')\n",
    "# print(max(nums))\n",
    "# print(min(nums))\n",
    "l3 = list(range(3,31,3))\n",
    "print(l3)\n",
    "print()\n",
    "l3 = [num**3 for num in range(0,10)]\n",
    "print(l3)"
   ]
  },
  {
   "cell_type": "code",
   "execution_count": 23,
   "metadata": {},
   "outputs": [
    {
     "name": "stdout",
     "output_type": "stream",
     "text": [
      "[996, 997, 998, 999]\n",
      "[]\n",
      "==============================\n",
      "[]\n",
      "[1000, 999, 998, 997]\n"
     ]
    }
   ],
   "source": [
    "# slice\n",
    "print(nums[-5:-1])\n",
    "print(nums[-5:-1:-1])\n",
    "print('='*30)\n",
    "print(nums[-1:-5])\n",
    "print(nums[-1:-5:-1]) # Only in this way, you can slice the last item out."
   ]
  },
  {
   "cell_type": "code",
   "execution_count": 27,
   "metadata": {},
   "outputs": [
    {
     "name": "stdout",
     "output_type": "stream",
     "text": [
      "139628651130568\n",
      "139628651213768\n",
      "==================================================\n",
      "[1, 2, 3, ['a', 'b', 'c', 'd']]\n",
      "[1, 2, 3, ['a', 'b', 'c', 'd']]\n",
      "==================================================\n",
      "[1, 2, 3, ['a', 'b', 'c', 'd'], 'd']\n",
      "[1, 2, 3, ['a', 'b', 'c', 'd']]\n"
     ]
    }
   ],
   "source": [
    "# Well, full_slice is also a shallow copy.\n",
    "l1 = [1,2,3,['a', 'b', 'c']]\n",
    "l2 = l1[:]\n",
    "print(id(l1))\n",
    "print(id(l2))\n",
    "print('='*50)\n",
    "l1[3].append('d')\n",
    "print(l1)\n",
    "print(l2)\n",
    "print('='*50)\n",
    "l1.append('d')\n",
    "print(l1)\n",
    "print(l2)"
   ]
  },
  {
   "cell_type": "markdown",
   "metadata": {},
   "source": [
    "#### tuple: an unchangeable list"
   ]
  },
  {
   "cell_type": "markdown",
   "metadata": {},
   "source": [
    "# chapter 5 IF ---- True or False?"
   ]
  },
  {
   "cell_type": "code",
   "execution_count": 30,
   "metadata": {},
   "outputs": [
    {
     "name": "stdout",
     "output_type": "stream",
     "text": [
      "you're given 10 points\n"
     ]
    }
   ],
   "source": [
    "# 5-3\n",
    "alien_color = 'black'\n",
    "\n",
    "if alien_color == 'green':\n",
    "    print('you got 5 points')\n",
    "else:\n",
    "    print('you\\'re given 10 points')"
   ]
  },
  {
   "cell_type": "code",
   "execution_count": 37,
   "metadata": {},
   "outputs": [
    {
     "name": "stdout",
     "output_type": "stream",
     "text": [
      "age:564\n",
      "too old\n"
     ]
    }
   ],
   "source": [
    "age = input('age:')\n",
    "age = int(age)\n",
    "if age < 25:\n",
    "    print('you\\'re very young')\n",
    "elif age < 35:\n",
    "          print('you still got chances')\n",
    "elif age < 50:\n",
    "    print('accept your fate, mate')\n",
    "elif age >= 50:\n",
    "    print('too old')"
   ]
  },
  {
   "cell_type": "code",
   "execution_count": 42,
   "metadata": {},
   "outputs": [
    {
     "name": "stdout",
     "output_type": "stream",
     "text": [
      "{} () []\n"
     ]
    }
   ],
   "source": [
    "a = {}\n",
    "b = ()\n",
    "c = []\n",
    "if not b:\n",
    "    print(a,b,c)"
   ]
  },
  {
   "cell_type": "code",
   "execution_count": 51,
   "metadata": {},
   "outputs": [
    {
     "name": "stdout",
     "output_type": "stream",
     "text": [
      "管理员大人您好\n",
      "刘奕含, 靠边站着！\n",
      "孟凡琳, 靠边站着！\n",
      "孙宇军, 靠边站着！\n",
      "吴彦祖, 靠边站着！\n"
     ]
    }
   ],
   "source": [
    "# 5-8 5-9 \n",
    "nms = ['admin', '刘奕含', '孟凡琳', '孙宇军', '吴彦祖']\n",
    "    \n",
    "if nms:    \n",
    "    for nm in nms:\n",
    "        if nm == 'admin':\n",
    "            print('管理员大人您好')\n",
    "        else:\n",
    "            print(nm+', 靠边站着！')\n",
    "else:\n",
    "    print('空的啊，玩呐？')"
   ]
  },
  {
   "cell_type": "code",
   "execution_count": 52,
   "metadata": {},
   "outputs": [
    {
     "name": "stdout",
     "output_type": "stream",
     "text": [
      "刘奕含已存在\n",
      "孙宇军已存在\n",
      "张国荣 is avilable\n",
      "王祖贤 is avilable\n",
      "ADMIN已存在\n"
     ]
    }
   ],
   "source": [
    "# 5-10\n",
    "current_users = ['admin', '刘奕含', '孟凡琳', '孙宇军', '吴彦祖']\n",
    "new_users = ['刘奕含', '孙宇军', '张国荣', '王祖贤', 'ADMIN']\n",
    "\n",
    "for new_user in new_users:\n",
    "    if new_user.lower() in current_users:\n",
    "        print(new_user+'已存在')\n",
    "    else:\n",
    "        print(new_user+' is avilable')"
   ]
  },
  {
   "cell_type": "code",
   "execution_count": 57,
   "metadata": {},
   "outputs": [
    {
     "name": "stdout",
     "output_type": "stream",
     "text": [
      "1st\n",
      "2nd\n",
      "3rd\n",
      "4th\n",
      "5th\n",
      "6th\n",
      "7th\n",
      "8th\n",
      "9th\n"
     ]
    }
   ],
   "source": [
    "# 5-11\n",
    "li = list(range(1,10))\n",
    "\n",
    "for i in li:\n",
    "\n",
    "    if i == 1:\n",
    "        print(str(i)+'st')\n",
    "    elif i == 2:\n",
    "        print(str(i)+'nd')\n",
    "    elif i == 3:\n",
    "        print(str(i)+'rd')\n",
    "    else:\n",
    "        print(str(i)+'th')"
   ]
  },
  {
   "cell_type": "code",
   "execution_count": null,
   "metadata": {
    "collapsed": true
   },
   "outputs": [],
   "source": []
  },
  {
   "cell_type": "code",
   "execution_count": null,
   "metadata": {
    "collapsed": true
   },
   "outputs": [],
   "source": []
  }
 ],
 "metadata": {
  "kernelspec": {
   "display_name": "Python 3",
   "language": "python",
   "name": "python3"
  },
  "language_info": {
   "codemirror_mode": {
    "name": "ipython",
    "version": 3
   },
   "file_extension": ".py",
   "mimetype": "text/x-python",
   "name": "python",
   "nbconvert_exporter": "python",
   "pygments_lexer": "ipython3",
   "version": "3.6.3"
  }
 },
 "nbformat": 4,
 "nbformat_minor": 2
}
