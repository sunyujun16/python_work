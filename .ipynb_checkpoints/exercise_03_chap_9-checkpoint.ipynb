{
 "cells": [
  {
   "cell_type": "markdown",
   "metadata": {},
   "source": [
    "# Chapter 9 Class & OOP (Object Oriented Programming)"
   ]
  },
  {
   "cell_type": "code",
   "execution_count": 3,
   "metadata": {
    "scrolled": false
   },
   "outputs": [
    {
     "name": "stdout",
     "output_type": "stream",
     "text": [
      "和平饭店\n",
      "刀剑无眼\n",
      "\n",
      "温酒拂尘；和平饭店\n",
      "江湖恩怨；刀剑无眼\n",
      "I'm open...\n"
     ]
    }
   ],
   "source": [
    "# 9-1\n",
    "class Restaurant():\n",
    "    def __init__(self, restaurant_name, cuisine_type):\n",
    "        self.restaurant_name = restaurant_name\n",
    "        self.cuisine_type = cuisine_type\n",
    "        \n",
    "    def describe_restaurant(self):\n",
    "        print(\"温酒拂尘；\"+self.restaurant_name)\n",
    "        print(\"江湖恩怨；\"+self.cuisine_type)\n",
    "        \n",
    "    def open_restaurant(self):\n",
    "        print(\"I'm open...\")\n",
    "        \n",
    "restaurant = Restaurant(\"和平饭店\", \"刀剑无眼\")\n",
    "\n",
    "print(restaurant.restaurant_name)\n",
    "print(restaurant.cuisine_type)\n",
    "print()\n",
    "\n",
    "restaurant.describe_restaurant()\n",
    "restaurant.open_restaurant()"
   ]
  },
  {
   "cell_type": "code",
   "execution_count": 4,
   "metadata": {},
   "outputs": [
    {
     "name": "stdout",
     "output_type": "stream",
     "text": [
      "He is SunYujun, he is 26 years old, his wife is LiuYihan\n",
      "Hello, SunYujun.\n"
     ]
    }
   ],
   "source": [
    "# 9-3\n",
    "class User():\n",
    "    \"\"\"这是一个储存用户信息的类\"\"\"\n",
    "    \n",
    "    def __init__(self, first_name, last_name, age, wife):\n",
    "        self.first_name = first_name\n",
    "        self.last_name = last_name\n",
    "        self.age = age\n",
    "        self.wife = wife\n",
    "        self.full_name = self.first_name.title() + self.last_name.title()\n",
    "        return None\n",
    "        \n",
    "    def describe_user(self):\n",
    "        if self.age != 1:\n",
    "            print(\"He is \"+self.full_name+\", he is \"+str(self.age)+\" years old, his wife is \"+self.wife)\n",
    "        else:\n",
    "            print('Fuck off!')\n",
    "        return None\n",
    "            \n",
    "    def greet_user(self):\n",
    "        print(\"Hello, \"+self.full_name+\".\")\n",
    "        return None\n",
    "    \n",
    "# User.__dict__\n",
    "user = User(\"Sun\", \"Yujun\", 26, \"LiuYihan\")\n",
    "\n",
    "user.describe_user()\n",
    "\n",
    "user.greet_user()"
   ]
  },
  {
   "cell_type": "code",
   "execution_count": 5,
   "metadata": {},
   "outputs": [
    {
     "name": "stdout",
     "output_type": "stream",
     "text": [
      "0\n",
      "405118\n",
      "406118\n"
     ]
    }
   ],
   "source": [
    "# 9-4\n",
    "# 因为一个函数写一半没加pass，又找了好半天，奶奶的，都是经验呐。\n",
    "\n",
    "class Restaurant():\n",
    "    \n",
    "    def __init__(self, restaurant_name, cuisine_type):\n",
    "        self.restaurant_name = restaurant_name\n",
    "        self.cuisine_type = cuisine_type\n",
    "        self.number_served = 0\n",
    "        \n",
    "    def describe_restaurant(self):\n",
    "        print(\"以吾之名；\"+self.restaurant_name)\n",
    "        print(\"江湖无情；\"+self.cuisine_type)\n",
    "        \n",
    "    def open_restaurant(self):\n",
    "        print(\"I'm open...\")\n",
    "        \n",
    "    def set_number_served(self, num):\n",
    "        if num >= self.number_served:\n",
    "            self.number_served = num\n",
    "        else:\n",
    "            print(\"Fuck off!\")\n",
    "    \n",
    "    def increment_number_served(self, plus_num):\n",
    "        if plus_num < 0:\n",
    "            print(\"Fuck off\")\n",
    "        else:\n",
    "            self.number_served += plus_num\n",
    "        \n",
    "        \n",
    "restaurant = Restaurant(\"和平饭店\", \"刀剑无眼\")\n",
    "print(restaurant.number_served)\n",
    "restaurant.set_number_served(405118)\n",
    "print(restaurant.number_served)\n",
    "restaurant.increment_number_served(1000)\n",
    "print(restaurant.number_served)\n",
    "\n",
    "# print(restaurant.restaurant_name)\n",
    "# print(restaurant.cuisine_type)\n",
    "# print()\n",
    "\n",
    "# restaurant.describe_restaurant()\n",
    "# restaurant.open_restaurant()"
   ]
  },
  {
   "cell_type": "code",
   "execution_count": 6,
   "metadata": {
    "collapsed": true
   },
   "outputs": [],
   "source": [
    "# 9-others ,you can find it in: /python_work/practices/chapter_9/"
   ]
  },
  {
   "cell_type": "markdown",
   "metadata": {
    "collapsed": true
   },
   "source": [
    "# Chapter 10 File and Errors"
   ]
  },
  {
   "cell_type": "code",
   "execution_count": 9,
   "metadata": {},
   "outputs": [
    {
     "name": "stdout",
     "output_type": "stream",
     "text": [
      "301654301684354684150\n"
     ]
    }
   ],
   "source": [
    "# pycharm\n",
    "# On my pc, I have to resign the parameter to make replace() works.\n",
    "a = '321654321684354684152'\n",
    "b = a.replace('2', '0')\n",
    "print(b)"
   ]
  },
  {
   "cell_type": "code",
   "execution_count": 3,
   "metadata": {
    "collapsed": true,
    "scrolled": true
   },
   "outputs": [],
   "source": [
    "# print('Please enter 2 numbers', '\\n Enter q to quit')\n",
    "\n",
    "# while True:\n",
    "#     a = input('1st num: ')\n",
    "#     if a == 'q':\n",
    "#         break\n",
    "        \n",
    "#     b = input('2nd num: ')\n",
    "#     if b == 'q':\n",
    "#         break\n",
    "        \n",
    "#     try:\n",
    "#         print(int(a) + int(b))\n",
    "#     except ValueError:\n",
    "#         print('please retry')"
   ]
  },
  {
   "cell_type": "code",
   "execution_count": 14,
   "metadata": {},
   "outputs": [
    {
     "name": "stdout",
     "output_type": "stream",
     "text": [
      "刘奕含\n",
      "孙宇军\n"
     ]
    }
   ],
   "source": [
    "a = \"\\\\u5218\\\\u5955\\\\u542b\"\n",
    "print(a.encode('utf8').decode('unicode_escape'))\n",
    "b = \"\\\\u5b59\\\\u5b87\\\\u519b\"\n",
    "print(b.encode('utf8').decode('unicode_escape'))"
   ]
  },
  {
   "cell_type": "markdown",
   "metadata": {
    "collapsed": true
   },
   "source": [
    "# Chapter 13"
   ]
  },
  {
   "cell_type": "code",
   "execution_count": 1,
   "metadata": {},
   "outputs": [
    {
     "name": "stdout",
     "output_type": "stream",
     "text": [
      "1\n",
      "2\n",
      "3\n",
      "4\n",
      "5\n",
      "6\n",
      "7\n",
      "8\n",
      "9\n",
      "10\n"
     ]
    }
   ],
   "source": [
    "a= 0 \n",
    "for i in range(10):\n",
    "    a += 1\n",
    "    print(a)"
   ]
  },
  {
   "cell_type": "code",
   "execution_count": 3,
   "metadata": {},
   "outputs": [
    {
     "data": {
      "text/plain": [
       "2.0"
      ]
     },
     "execution_count": 3,
     "metadata": {},
     "output_type": "execute_result"
    }
   ],
   "source": [
    "5//2.0"
   ]
  },
  {
   "cell_type": "code",
   "execution_count": 11,
   "metadata": {},
   "outputs": [
    {
     "name": "stdout",
     "output_type": "stream",
     "text": [
      "{'num': <__main__.Num object at 0x7f78fc178518>}\n",
      "{'num': <__main__.Num object at 0x7f78fc178518>}\n",
      "0\n",
      "0\n",
      "{'num': <__main__.Num object at 0x7f78fc178518>}\n",
      "{'num': <__main__.Num object at 0x7f78fc178518>}\n",
      "0\n",
      "0\n",
      "{'num': <__main__.Num object at 0x7f78fc178518>}\n",
      "{'num': <__main__.Num object at 0x7f78fc178518>}\n",
      "0\n",
      "0\n",
      "{'num': <__main__.Num object at 0x7f78fc178518>}\n",
      "{'num': <__main__.Num object at 0x7f78fc178518>}\n",
      "0\n",
      "0\n",
      "{'num': <__main__.Num object at 0x7f78fc178518>}\n",
      "{'num': <__main__.Num object at 0x7f78fc178518>}\n",
      "0\n",
      "0\n",
      "{'num': <__main__.Num object at 0x7f78fc178518>}\n",
      "{'num': <__main__.Num object at 0x7f78fc178518>}\n",
      "0\n",
      "0\n",
      "{'num': <__main__.Num object at 0x7f78fc178518>}\n",
      "{'num': <__main__.Num object at 0x7f78fc178518>}\n",
      "0\n",
      "0\n",
      "{'num': <__main__.Num object at 0x7f78fc178518>}\n",
      "{'num': <__main__.Num object at 0x7f78fc178518>}\n",
      "0\n",
      "0\n",
      "{'num': <__main__.Num object at 0x7f78fc178518>}\n",
      "{'num': <__main__.Num object at 0x7f78fc178518>}\n",
      "0\n",
      "0\n",
      "{'num': <__main__.Num object at 0x7f78fc178518>}\n",
      "{'num': <__main__.Num object at 0x7f78fc178518>}\n",
      "0\n",
      "0\n"
     ]
    }
   ],
   "source": [
    "i =0\n",
    "\n",
    "class Num():\n",
    "    def __init__(self):\n",
    "        self.value = 0 \n",
    "\n",
    "num = Num()\n",
    "\n",
    "class A():\n",
    "    def __init__(self, num):\n",
    "        self.num = num\n",
    "    \n",
    "    def update(self):\n",
    "        self.num.value *= -1\n",
    "\n",
    "a = A(num)\n",
    "b = A(num)\n",
    "\n",
    "while i < 10:\n",
    "    i += 1\n",
    "    a.update()\n",
    "    b.update()\n",
    "    print(a.__dict__)\n",
    "    print(b.__dict__)\n",
    "    print(a.num.value)\n",
    "    print(b.num.value)\n"
   ]
  },
  {
   "cell_type": "code",
   "execution_count": null,
   "metadata": {
    "collapsed": true
   },
   "outputs": [],
   "source": []
  }
 ],
 "metadata": {
  "kernelspec": {
   "display_name": "Python 3",
   "language": "python",
   "name": "python3"
  },
  "language_info": {
   "codemirror_mode": {
    "name": "ipython",
    "version": 3
   },
   "file_extension": ".py",
   "mimetype": "text/x-python",
   "name": "python",
   "nbconvert_exporter": "python",
   "pygments_lexer": "ipython3",
   "version": "3.6.3"
  }
 },
 "nbformat": 4,
 "nbformat_minor": 2
}
