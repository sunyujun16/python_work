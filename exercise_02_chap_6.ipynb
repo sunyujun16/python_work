{
 "cells": [
  {
   "cell_type": "markdown",
   "metadata": {},
   "source": [
    "# chapter 6 Magical Dict"
   ]
  },
  {
   "cell_type": "code",
   "execution_count": 1,
   "metadata": {
    "scrolled": true
   },
   "outputs": [
    {
     "name": "stdout",
     "output_type": "stream",
     "text": [
      "奕含\n",
      "26\n",
      "A\n"
     ]
    }
   ],
   "source": [
    "# 6-1 \n",
    "lover = {'name':'奕含', 'age':26, 'height':170, 'size':'A'}\n",
    "print(lover['name'])\n",
    "print(lover['age'])\n",
    "print(lover['size'])"
   ]
  },
  {
   "cell_type": "code",
   "execution_count": 5,
   "metadata": {},
   "outputs": [
    {
     "name": "stdout",
     "output_type": "stream",
     "text": [
      "if:\n",
      "\t条件判断\n",
      "for:\n",
      "\t循环语句\n",
      "奕含:\n",
      "\t梦中情人\n"
     ]
    }
   ],
   "source": [
    "# 6-3\n",
    "define = {'if':'条件判断', 'for':'循环语句', '奕含':'梦中情人'}\n",
    "print('if:\\n\\t'+define['if'])\n",
    "print('for:\\n\\t'+define['for'])\n",
    "print('奕含:\\n\\t'+define['奕含'])"
   ]
  },
  {
   "cell_type": "code",
   "execution_count": 8,
   "metadata": {},
   "outputs": [
    {
     "name": "stdout",
     "output_type": "stream",
     "text": [
      "The following languages were mentioned:\n",
      "English\n",
      "Chinese\n"
     ]
    }
   ],
   "source": [
    "# use set() to disgard repetly values\n",
    "\n",
    "favorite_languages = {'宇军':'English', '奕含':'English', '孟凡琳':'Chinese'}\n",
    "\n",
    "print('The following languages were mentioned:')\n",
    "for language in set(favorite_languages.values()):\n",
    "    print(language.title())"
   ]
  },
  {
   "cell_type": "code",
   "execution_count": 11,
   "metadata": {},
   "outputs": [
    {
     "name": "stdout",
     "output_type": "stream",
     "text": [
      "the defination of the word 'if' is:条件判断\n",
      "the defination of the word 'for' is:循环语句\n",
      "the defination of the word '奕含' is:梦中情人\n"
     ]
    }
   ],
   "source": [
    "# 6-4\n",
    "define = {'if':'条件判断', 'for':'循环语句', '奕含':'梦中情人'}\n",
    "for word in define.keys():\n",
    "    print('the defination of the word '+\"'\"+word+\"'\"+' is:'+define[word])"
   ]
  },
  {
   "cell_type": "code",
   "execution_count": 12,
   "metadata": {},
   "outputs": [
    {
     "name": "stdout",
     "output_type": "stream",
     "text": [
      "宇军, Thank you for your corperation!\n",
      "奕含, Thank you for your corperation!\n",
      "王祖贤, would you like to join us?\n",
      "张国荣, would you like to join us?\n"
     ]
    }
   ],
   "source": [
    "# 6-6\n",
    "favorite_languages = {'宇军':'English', '奕含':'English', '孟凡琳':'Chinese', 'Messi':'Spanish'}\n",
    "names = ['宇军', '奕含', '王祖贤', '张国荣']\n",
    "\n",
    "for name in names:\n",
    "    if name in favorite_languages.keys():\"self.magicians\" was changed in the e\n",
    "        print(name.title()+', Thank you for your corperation!')\n",
    "    else:\n",
    "        print(name.title()+', would you like to join us?')\n"
   ]
  },
  {
   "cell_type": "code",
   "execution_count": 21,
   "metadata": {},
   "outputs": [
    {
     "name": "stdout",
     "output_type": "stream",
     "text": [
      "\n",
      "奕含's age is 26.\n",
      "\n",
      "奕含's height is 170.\n",
      "\n",
      "奕含's size is A-cup.\n",
      "\n",
      "宇军's age is 26.\n",
      "\n",
      "宇军's height is 170.\n",
      "\n",
      "宇军's size is 15.6cm.\n"
     ]
    }
   ],
   "source": [
    "# 6-7\n",
    "lover = {'name':'奕含', 'age':26, 'height':170, 'size':'A-cup'}\n",
    "self = {'name':'宇军', 'age':26, 'height':170, 'size':'15.6cm'}\n",
    "people = [lover, self]\n",
    "\n",
    "for person in people:\n",
    "    for k,v in person.items():\n",
    "        if k != 'name':\n",
    "            print('\\n'+person['name']+'\\'s '+str(k)+' is '+str(v)+'.')"
   ]
  },
  {
   "cell_type": "code",
   "execution_count": 4,
   "metadata": {
    "scrolled": true
   },
   "outputs": [
    {
     "name": "stdout",
     "output_type": "stream",
     "text": [
      "奕含's favorite cities are: \n",
      "\t北京\n",
      "\t成都\n",
      "\t重庆\n",
      "宇军's favorite city is: \n",
      "\t成都.\n",
      "孟凡琳's favorite cities are: \n",
      "\t北京\n",
      "\t沈阳\n",
      "\t上海\n"
     ]
    }
   ],
   "source": [
    "# 6-9\n",
    "favorite_places = {'奕含':['北京', '成都', '重庆'], '宇军':['成都'], \\\n",
    "                   '孟凡琳':['北京', '沈阳', '上海'],}\n",
    "for name,places in favorite_places.items():\n",
    "    if len(places) == 1:\n",
    "            print(name+'\\'s '+'favorite city is: \\n\\t'+places[0]+'.')\n",
    "    else:\n",
    "        print(name+'\\'s '+'favorite cities are: ')\n",
    "        for place in places:\n",
    "            print('\\t'+place.title())\n",
    "\"self.magicians\" was changed in the e\"self.magicians\" was changed in the e"
   ]
  },
  {
   "cell_type": "markdown",
   "metadata": {
    "collapsed": true
   },
   "source": [
    "# chapter 7 Input and while"
   ]
  },
  {
   "cell_type": "code",
   "execution_count": 16,
   "metadata": {},
   "outputs": [
    {
     "name": "stdout",
     "output_type": "stream",
     "text": [
      "Input your name please: (input quit to quit）quit\n",
      "[]\n"
     ]
    }
   ],
   "source": [
    "# 7-4\n",
    "# pl = []\n",
    "# while True:\n",
    "#     a = input('Input your name please: (input quit to quit）')\n",
    "#     if a != 'quit':\n",
    "#         pl.append(a)\n",
    "#     else:\n",
    "#         print(pl)\n",
    "#         break"
   ]
  },
  {
   "cell_type": "code",
   "execution_count": 13,
   "metadata": {
    "collapsed": true
   },
   "outputs": [],
   "source": [
    "# 7-5 str --> int"
   ]
  },
  {
   "cell_type": "code",
   "execution_count": 18,
   "metadata": {},
   "outputs": [
    {
     "name": "stdout",
     "output_type": "stream",
     "text": [
      "Input your name please: (input quit to quit）quit\n",
      "[]\n"
     ]
    }
   ],
   "source": [
    "# 7-6\n",
    "# active = True\n",
    "# while active:\n",
    "#     a = input('Input your name please: (input quit to quit）')\n",
    "#     if a != 'quit':\n",
    "#         pl.append(a)\n",
    "#     else:\n",
    "#         print(pl)\n",
    "#         active = False"
   ]
  },
  {
   "cell_type": "code",
   "execution_count": 27,
   "metadata": {},
   "outputs": [
    {
     "name": "stdout",
     "output_type": "stream",
     "text": [
      "<class 'list'>\n",
      "['宇军', '凡琳', '奕含']\n"
     ]
    }
   ],
   "source": [
    "# 7-8\n",
    "sandwich_orders = ['奕含', '凡琳', '宇军']\n",
    "finished_sandwiches = []\n",
    "print(type(finished_sandwiches))\n",
    "\n",
    "while sandwich_orders:\n",
    "    sandwich = sandwich_orders.pop()\n",
    "#     finished_sandwiches = finished_sandwiches.append(sandwich) # 这个错误犯了N次了，操他妈的长点记性！！！！\n",
    "    finished_sandwiches.append(sandwich)\n",
    "    \n",
    "print(finished_sandwiches)"
   ]
  },
  {
   "cell_type": "code",
   "execution_count": 4,
   "metadata": {},
   "outputs": [
    {
     "name": "stdout",
     "output_type": "stream",
     "text": [
      "祖贤不在今天\n",
      "['奕含', '凡琳', '宇军']\n"
     ]
    }
   ],
   "source": [
    "# 7-9\n",
    "sandwich_orders = ['奕含', '祖贤', '凡琳', '宇军', '祖贤']\n",
    "\n",
    "print('祖贤不在今天')\n",
    "while '祖贤' in sandwich_orders:\n",
    "    sandwich_orders.remove('祖贤')\n",
    "    \n",
    "print (sandwich_orders)"
   ]
  },
  {
   "cell_type": "markdown",
   "metadata": {
    "collapsed": true
   },
   "source": [
    "# chapter 8 Function"
   ]
  },
  {
   "cell_type": "code",
   "execution_count": 5,
   "metadata": {},
   "outputs": [
    {
     "name": "stdout",
     "output_type": "stream",
     "text": [
      "One of my favorite books is Alice in Wonderland.\n"
     ]
    }
   ],
   "source": [
    "# 8-2\n",
    "def favorite_book(title):\n",
    "    print('One of my favorite books is '+title+'.')\n",
    "\n",
    "favorite_book('Alice in Wonderland')"
   ]
  },
  {
   "cell_type": "code",
   "execution_count": 8,
   "metadata": {},
   "outputs": [
    {
     "name": "stdout",
     "output_type": "stream",
     "text": [
      "HangZhou is in China\n",
      "London is in England\n"
     ]
    }
   ],
   "source": [
    "# 8-5\n",
    "def describe_city(city, country='China'):\n",
    "    print(city+' is in '+country)\n",
    "\n",
    "describe_city('HangZhou')\n",
    "describe_city('London', 'England')"
   ]
  },
  {
   "cell_type": "code",
   "execution_count": 12,
   "metadata": {
    "scrolled": false
   },
   "outputs": [
    {
     "name": "stdout",
     "output_type": "stream",
     "text": [
      "Enter \"q\" to quit\n",
      "please input the singer's name: q\n"
     ]
    }
   ],
   "source": [
    "# 8-8\n",
    "def make_album(singer, album, num=''):\n",
    "    msg = {'singer':singer, 'album':album}\n",
    "    if num:\n",
    "        msg['num'] = num\n",
    "    return msg\n",
    "\n",
    "while True:\n",
    "    print('Enter \"q\" to quit')\\\n",
    "    \n",
    "    s_name = input('please input the singer\\'s name: ')\n",
    "    if s_name == 'q':\n",
    "        break\n",
    "        \n",
    "    a_name = input('please input the album\\'s name: ')\n",
    "    if a_name == 'q':\n",
    "        break\n",
    "        \n",
    "    num = input('please enter the amount of songs in this album: ')\n",
    "    if num == 'q':\n",
    "        break\n",
    "    \n",
    "    msg_ = make_album(s_name, a_name, num)\n",
    "    print(msg_)"
   ]
  },
  {
   "cell_type": "markdown",
   "metadata": {},
   "source": [
    "---"
   ]
  },
  {
   "cell_type": "code",
   "execution_count": 32,
   "metadata": {
    "scrolled": true
   },
   "outputs": [
    {
     "name": "stdout",
     "output_type": "stream",
     "text": [
      "It's David\n",
      "It's Michael\n",
      "It's Stenfan\n",
      "It's Jude\n",
      "==============================\n",
      "It's the Great David!\n",
      "It's the Great Michael!\n",
      "It's the Great Stenfan!\n",
      "It's the Great Jude!\n"
     ]
    }
   ],
   "source": [
    "# 8-11\n",
    "magicians = ['David', 'Michael', 'Stenfan', 'Jude']\n",
    "\n",
    "def show_magicians(magician_names):\n",
    "        for magician_name in magician_names:\n",
    "            print(\"It's \"+magician_name)\n",
    "\n",
    "def make_great(magician_names):\n",
    "    add_names = []\n",
    "    for magician_name in magician_names:\n",
    "        add_name = \"the Great \"+magician_name+'!'\n",
    "        add_names.append(add_name)\n",
    "    magicians = add_names # replace the orginal list. But failed in the end.\n",
    "    return magicians # It's a local parameter !!!!!!!!!!!!!!!!!!!!!!!!\n",
    "\n",
    "the_great_ones = make_great(magicians)\n",
    "\n",
    "show_magicians(magicians) # The old list hasn\"self.magicians\" was changed in the e't changed a bit.\n",
    "print('='*30)\n",
    "show_magicians(the_great_ones)\n",
    "\n",
    "# Whatever you do to the original list inside the function, it doesn't change the list at all. That's because:\n",
    "# whatever value you assign to the list, it is always a local parameter. you have to assign it outside the\n",
    "# function which is already invoked in able to change it's value."
   ]
  },
  {
   "cell_type": "code",
   "execution_count": 6,
   "metadata": {},
   "outputs": [
    {
     "name": "stdout",
     "output_type": "stream",
     "text": [
      "['the Great David!', 'the Great Michael!', 'the Great Stenfan!', 'the Great Jude!']\n",
      "It's the Great David!\n",
      "It's the Great Michael!\n",
      "It's the Great Stenfan!\n",
      "It's the Great Jude!\n"
     ]
    }
   ],
   "source": [
    "# The upper example showed us what the probelem local parameters would caught. \n",
    "# But you got to know ,when it comes to classes, things will be completely different.\n",
    "# you can see that \"self.magicians\" was changed in the end, that's because it has become an attribute of \"a\"\n",
    "# instead of a independent parameter.\n",
    "\n",
    "class A():    \n",
    "    def __init__(self, magicians):\n",
    "        self.magicians = magicians\n",
    "\n",
    "    def show_magicians(self):\n",
    "            for magician_name in self.magicians:\n",
    "                print(\"It's \"+magician_name)\n",
    "\n",
    "    def make_great(self):\n",
    "        add_names = []\n",
    "        for magician_name in self.magicians:\n",
    "            add_name = \"the Great \"+magician_name+'!'\n",
    "            add_names.append(add_name)\n",
    "        self.magicians = add_names # replace the orginal list. But failed in the end.\n",
    "        return self.magicians # It's a local parameter !!!!!!!!!!!!!!!!!!!!!!!!\n",
    "\n",
    "\n",
    "a =A(['David', 'Michael', 'Stenfan', 'Jude'])\n",
    "the_great_ones = a.make_great()\n",
    "print(the_great_ones)\n",
    "\n",
    "a.show_magicians()\n",
    "\n",
    "# show_magicians(magicians) # The old list hasn't changed a bit.\n",
    "# print('='*30)\n",
    "# show_magicians(the_great_ones)"
   ]
  },
  {
   "cell_type": "markdown",
   "metadata": {},
   "source": [
    "---"
   ]
  },
  {
   "cell_type": "code",
   "execution_count": 33,
   "metadata": {},
   "outputs": [
    {
     "name": "stdout",
     "output_type": "stream",
     "text": [
      "1\n"
     ]
    }
   ],
   "source": [
    "# Here is an example for parameters in different Namespaces.\n",
    "a = 1\n",
    "\n",
    "def change_a(x):\n",
    "    x = 2\n",
    "    return x\n",
    "\n",
    "change_a(a)\n",
    "print(a)\n",
    "# print(x) # NameError: name 'x' is not defined"
   ]
  },
  {
   "cell_type": "code",
   "execution_count": 27,
   "metadata": {},
   "outputs": [
    {
     "name": "stdout",
     "output_type": "stream",
     "text": [
      "Here are the toppings:\n",
      "- peperoni\n",
      "- extra cheese\n",
      "- mushrooms\n",
      "Here are the toppings:\n",
      "- 奕含\n",
      "- 琳姐\n"
     ]
    }
   ],
   "source": [
    "# 8-12\n",
    "def add_toppings(*toppings): # At this very moment, a tuple named 'toppings' is created.\n",
    "    print(\"Here are the toppings:\")\n",
    "    for topping in toppings:\n",
    "        print('- '+topping)\n",
    "    \n",
    "add_toppings('peperoni', 'extra cheese', 'mushrooms')\n",
    "add_toppings('奕含', '琳姐')"
   ]
  },
  {
   "cell_type": "code",
   "execution_count": 26,
   "metadata": {},
   "outputs": [
    {
     "name": "stdout",
     "output_type": "stream",
     "text": [
      "{'first_name': 'Sun', 'last_name': 'Yujun', 'title_1': 'Lord of Senven Kingdoms', 'title_2': 'Conqueror of Internet', 'title_3': 'Father of light', 'school': 'HIT', 'Lover': 'Connie Carter'}\n",
      "\n",
      "first_name is Sun\n",
      "\n",
      "last_name is Yujun\n",
      "\n",
      "title_1 is Lord of Senven Kingdoms\n",
      "\n",
      "title_2 is Conqueror of Internet\n",
      "\n",
      "title_3 is Father of light\n",
      "\n",
      "school is HIT\n",
      "\n",
      "Lover is Connie Carter\n"
     ]
    }
   ],
   "source": [
    "# 8-13\n",
    "def build_files(f,l,*titles,**others):\n",
    "    profiles = {}\n",
    "#     print(\"Titles are: \")\n",
    "    profiles['first_name'] = f\"self.magicians\" was changed in the e\n",
    "    profiles['last_name'] = l\n",
    "    \n",
    "    i = 1\n",
    "    for title in titles:\n",
    "        title_name = \"title_\"+str(i)\n",
    "        profiles[title_name] = title\n",
    "        i += 1\n",
    "        \n",
    "    for k,v in others.items():\n",
    "        profiles[k] = v\n",
    "    \n",
    "    return profiles\n",
    "    \n",
    "a = build_files('Sun', 'Yujun', 'Lord of Senven Kingdoms', \"Conqueror of Internet\", \"Father of light\", \\\n",
    "               school='HIT', Lover='Connie Carter')\n",
    "print(a)\n",
    "for k,v in a.items():\n",
    "    print('\\n'+k+' is '+v)\n",
    "    "
   ]
  },
  {
   "cell_type": "code",
   "execution_count": 31,
   "metadata": {},
   "outputs": [
    {
     "name": "stdout",
     "output_type": "stream",
     "text": [
      "{'producer': 'BYD', '_type': 'SUV', 'color': 'green', 'size': 'Minimum', 'shotgun': 'sexy girls'}\n"
     ]
    }
   ],
   "source": [
    "# 8-14\n",
    "def make_car(car_producer, car_type, **kwargs):\n",
    "    profile = {}\n",
    "    profile['producer'] = car_producer\n",
    "    profile['_type'] = car_type\n",
    "    for k,v in kwargs.items():\n",
    "        profile[k] = v\n",
    "    return profile\n",
    "\n",
    "car = make_car('BYD', 'SUV', color='green', size='Minimum', shotgun='sexy girls')\n",
    "print(car)"
   ]
  },
  {
   "cell_type": "code",
   "execution_count": 39,
   "metadata": {
    "collapsed": true
   },
   "outputs": [],
   "source": [
    "def abc(asdf, addd, \n",
    "       ddgdg, gdsgd, \n",
    "       dhsfdhsdf):\n",
    "    pass # PEP8"
   ]
  },
  {
   "cell_type": "code",
   "execution_count": null,
   "metadata": {
    "collapsed": true
   },
   "outputs": [],
   "source": []
  },
  {
   "cell_type": "code",
   "execution_count": null,
   "metadata": {
    "collapsed": true
   },
   "outputs": [],
   "source": []
  }
 ],
 "metadata": {
  "kernelspec": {
   "display_name": "Python 3",
   "language": "python",
   "name": "python3"
  },
  "language_info": {
   "codemirror_mode": {
    "name": "ipython",
    "version": 3
   },
   "file_extension": ".py",
   "mimetype": "text/x-python",
   "name": "python",
   "nbconvert_exporter": "python",
   "pygments_lexer": "ipython3",
   "version": "3.6.3"
  }
 },
 "nbformat": 4,
 "nbformat_minor": 2
}
